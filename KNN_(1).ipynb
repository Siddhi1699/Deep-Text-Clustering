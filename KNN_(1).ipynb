{
  "nbformat": 4,
  "nbformat_minor": 0,
  "metadata": {
    "colab": {
      "provenance": []
    },
    "kernelspec": {
      "name": "python3",
      "language": "python",
      "display_name": "Python 3 (ipykernel)"
    },
    "language_info": {
      "name": "python"
    }
  },
  "cells": [
    {
      "cell_type": "code",
      "source": [
        "!pip install minisom\n",
        "!pip install shap"
      ],
      "metadata": {
        "colab": {
          "base_uri": "https://localhost:8080/"
        },
        "id": "1MkCQltuOYp5",
        "outputId": "0bd06a79-67d4-4caa-cd0d-dc8671db55ce"
      },
      "execution_count": 26,
      "outputs": [
        {
          "output_type": "stream",
          "name": "stdout",
          "text": [
            "Requirement already satisfied: minisom in /usr/local/lib/python3.10/dist-packages (2.3.2)\n",
            "Collecting shap\n",
            "  Downloading shap-0.45.1-cp310-cp310-manylinux_2_12_x86_64.manylinux2010_x86_64.manylinux_2_17_x86_64.manylinux2014_x86_64.whl (540 kB)\n",
            "\u001b[2K     \u001b[90m━━━━━━━━━━━━━━━━━━━━━━━━━━━━━━━━━━━━━━━━\u001b[0m \u001b[32m540.5/540.5 kB\u001b[0m \u001b[31m7.9 MB/s\u001b[0m eta \u001b[36m0:00:00\u001b[0m\n",
            "\u001b[?25hRequirement already satisfied: numpy in /usr/local/lib/python3.10/dist-packages (from shap) (1.25.2)\n",
            "Requirement already satisfied: scipy in /usr/local/lib/python3.10/dist-packages (from shap) (1.11.4)\n",
            "Requirement already satisfied: scikit-learn in /usr/local/lib/python3.10/dist-packages (from shap) (1.2.2)\n",
            "Requirement already satisfied: pandas in /usr/local/lib/python3.10/dist-packages (from shap) (2.0.3)\n",
            "Requirement already satisfied: tqdm>=4.27.0 in /usr/local/lib/python3.10/dist-packages (from shap) (4.66.4)\n",
            "Requirement already satisfied: packaging>20.9 in /usr/local/lib/python3.10/dist-packages (from shap) (24.1)\n",
            "Collecting slicer==0.0.8 (from shap)\n",
            "  Downloading slicer-0.0.8-py3-none-any.whl (15 kB)\n",
            "Requirement already satisfied: numba in /usr/local/lib/python3.10/dist-packages (from shap) (0.58.1)\n",
            "Requirement already satisfied: cloudpickle in /usr/local/lib/python3.10/dist-packages (from shap) (2.2.1)\n",
            "Requirement already satisfied: llvmlite<0.42,>=0.41.0dev0 in /usr/local/lib/python3.10/dist-packages (from numba->shap) (0.41.1)\n",
            "Requirement already satisfied: python-dateutil>=2.8.2 in /usr/local/lib/python3.10/dist-packages (from pandas->shap) (2.8.2)\n",
            "Requirement already satisfied: pytz>=2020.1 in /usr/local/lib/python3.10/dist-packages (from pandas->shap) (2023.4)\n",
            "Requirement already satisfied: tzdata>=2022.1 in /usr/local/lib/python3.10/dist-packages (from pandas->shap) (2024.1)\n",
            "Requirement already satisfied: joblib>=1.1.1 in /usr/local/lib/python3.10/dist-packages (from scikit-learn->shap) (1.4.2)\n",
            "Requirement already satisfied: threadpoolctl>=2.0.0 in /usr/local/lib/python3.10/dist-packages (from scikit-learn->shap) (3.5.0)\n",
            "Requirement already satisfied: six>=1.5 in /usr/local/lib/python3.10/dist-packages (from python-dateutil>=2.8.2->pandas->shap) (1.16.0)\n",
            "Installing collected packages: slicer, shap\n",
            "Successfully installed shap-0.45.1 slicer-0.0.8\n"
          ]
        }
      ]
    },
    {
      "cell_type": "code",
      "execution_count": 27,
      "outputs": [],
      "source": [
        "import shap\n",
        "import numpy as np\n",
        "import pandas as pd\n",
        "from matplotlib import pyplot as plt\n",
        "from sklearn.metrics import silhouette_score, calinski_harabasz_score\n",
        "from sklearn.neighbors import NearestNeighbors\n",
        "from minisom import MiniSom\n",
        "import numpy as np\n",
        "import pandas as pd\n",
        "from sklearn.cluster import AgglomerativeClustering\n",
        "from scipy.cluster.hierarchy import linkage, fcluster"
      ],
      "metadata": {
        "ExecuteTime": {
          "end_time": "2024-06-17T19:27:30.988906Z",
          "start_time": "2024-06-17T19:27:30.176141Z"
        },
        "id": "sB4kwjGLOK04"
      }
    },
    {
      "cell_type": "code",
      "execution_count": 6,
      "metadata": {
        "id": "HZlatlDgADpo",
        "ExecuteTime": {
          "end_time": "2024-06-17T19:27:31.840612Z",
          "start_time": "2024-06-17T19:27:31.677589Z"
        },
        "colab": {
          "base_uri": "https://localhost:8080/",
          "height": 255
        },
        "outputId": "3cdb4209-434f-455d-b6de-33b1ac28d83a"
      },
      "outputs": [
        {
          "output_type": "execute_result",
          "data": {
            "text/plain": [
              "    topic_0   topic_1   topic_2   topic_3   topic_4   topic_5  topic_6  \\\n",
              "0  0.029291  0.122669  0.078690  0.509404  0.257012  0.000000      0.0   \n",
              "1  0.072681  0.114266  0.434530  0.297216  0.072028  0.000000      0.0   \n",
              "2  0.532546  0.181123  0.050537  0.051361  0.069668  0.113055      0.0   \n",
              "3  0.269257  0.163069  0.563442  0.000000  0.000000  0.000000      0.0   \n",
              "4  0.045626  0.066652  0.133848  0.193264  0.556775  0.000000      0.0   \n",
              "\n",
              "   topic_7  topic_8  topic_9  ...       190       191       192       193  \\\n",
              "0      0.0      0.0      0.0  ... -0.068914  0.165855 -0.139714  0.018813   \n",
              "1      0.0      0.0      0.0  ...  0.164396 -0.031148 -0.016781 -0.069668   \n",
              "2      0.0      0.0      0.0  ... -0.125470  0.051412  0.059226 -0.057874   \n",
              "3      0.0      0.0      0.0  ...  0.310030 -0.218989 -0.077160 -0.038774   \n",
              "4      0.0      0.0      0.0  ...  0.268552  0.212245  0.184841  0.022134   \n",
              "\n",
              "        194       195       196       197       198       199  \n",
              "0  0.186408  0.246452  0.127322  0.037057  0.035583 -0.192175  \n",
              "1  0.120217  0.086646  0.081417 -0.013408 -0.056917 -0.052905  \n",
              "2  0.426521 -0.072455  0.080208  0.068673 -0.240681 -0.269405  \n",
              "3  0.162210 -0.052915  0.167200  0.059254  0.039290  0.134820  \n",
              "4  0.108727 -0.105548  0.056528  0.068675  0.005168  0.110122  \n",
              "\n",
              "[5 rows x 220 columns]"
            ],
            "text/html": [
              "\n",
              "  <div id=\"df-1f38a845-6251-4b78-b3dc-1f905c88461d\" class=\"colab-df-container\">\n",
              "    <div>\n",
              "<style scoped>\n",
              "    .dataframe tbody tr th:only-of-type {\n",
              "        vertical-align: middle;\n",
              "    }\n",
              "\n",
              "    .dataframe tbody tr th {\n",
              "        vertical-align: top;\n",
              "    }\n",
              "\n",
              "    .dataframe thead th {\n",
              "        text-align: right;\n",
              "    }\n",
              "</style>\n",
              "<table border=\"1\" class=\"dataframe\">\n",
              "  <thead>\n",
              "    <tr style=\"text-align: right;\">\n",
              "      <th></th>\n",
              "      <th>topic_0</th>\n",
              "      <th>topic_1</th>\n",
              "      <th>topic_2</th>\n",
              "      <th>topic_3</th>\n",
              "      <th>topic_4</th>\n",
              "      <th>topic_5</th>\n",
              "      <th>topic_6</th>\n",
              "      <th>topic_7</th>\n",
              "      <th>topic_8</th>\n",
              "      <th>topic_9</th>\n",
              "      <th>...</th>\n",
              "      <th>190</th>\n",
              "      <th>191</th>\n",
              "      <th>192</th>\n",
              "      <th>193</th>\n",
              "      <th>194</th>\n",
              "      <th>195</th>\n",
              "      <th>196</th>\n",
              "      <th>197</th>\n",
              "      <th>198</th>\n",
              "      <th>199</th>\n",
              "    </tr>\n",
              "  </thead>\n",
              "  <tbody>\n",
              "    <tr>\n",
              "      <th>0</th>\n",
              "      <td>0.029291</td>\n",
              "      <td>0.122669</td>\n",
              "      <td>0.078690</td>\n",
              "      <td>0.509404</td>\n",
              "      <td>0.257012</td>\n",
              "      <td>0.000000</td>\n",
              "      <td>0.0</td>\n",
              "      <td>0.0</td>\n",
              "      <td>0.0</td>\n",
              "      <td>0.0</td>\n",
              "      <td>...</td>\n",
              "      <td>-0.068914</td>\n",
              "      <td>0.165855</td>\n",
              "      <td>-0.139714</td>\n",
              "      <td>0.018813</td>\n",
              "      <td>0.186408</td>\n",
              "      <td>0.246452</td>\n",
              "      <td>0.127322</td>\n",
              "      <td>0.037057</td>\n",
              "      <td>0.035583</td>\n",
              "      <td>-0.192175</td>\n",
              "    </tr>\n",
              "    <tr>\n",
              "      <th>1</th>\n",
              "      <td>0.072681</td>\n",
              "      <td>0.114266</td>\n",
              "      <td>0.434530</td>\n",
              "      <td>0.297216</td>\n",
              "      <td>0.072028</td>\n",
              "      <td>0.000000</td>\n",
              "      <td>0.0</td>\n",
              "      <td>0.0</td>\n",
              "      <td>0.0</td>\n",
              "      <td>0.0</td>\n",
              "      <td>...</td>\n",
              "      <td>0.164396</td>\n",
              "      <td>-0.031148</td>\n",
              "      <td>-0.016781</td>\n",
              "      <td>-0.069668</td>\n",
              "      <td>0.120217</td>\n",
              "      <td>0.086646</td>\n",
              "      <td>0.081417</td>\n",
              "      <td>-0.013408</td>\n",
              "      <td>-0.056917</td>\n",
              "      <td>-0.052905</td>\n",
              "    </tr>\n",
              "    <tr>\n",
              "      <th>2</th>\n",
              "      <td>0.532546</td>\n",
              "      <td>0.181123</td>\n",
              "      <td>0.050537</td>\n",
              "      <td>0.051361</td>\n",
              "      <td>0.069668</td>\n",
              "      <td>0.113055</td>\n",
              "      <td>0.0</td>\n",
              "      <td>0.0</td>\n",
              "      <td>0.0</td>\n",
              "      <td>0.0</td>\n",
              "      <td>...</td>\n",
              "      <td>-0.125470</td>\n",
              "      <td>0.051412</td>\n",
              "      <td>0.059226</td>\n",
              "      <td>-0.057874</td>\n",
              "      <td>0.426521</td>\n",
              "      <td>-0.072455</td>\n",
              "      <td>0.080208</td>\n",
              "      <td>0.068673</td>\n",
              "      <td>-0.240681</td>\n",
              "      <td>-0.269405</td>\n",
              "    </tr>\n",
              "    <tr>\n",
              "      <th>3</th>\n",
              "      <td>0.269257</td>\n",
              "      <td>0.163069</td>\n",
              "      <td>0.563442</td>\n",
              "      <td>0.000000</td>\n",
              "      <td>0.000000</td>\n",
              "      <td>0.000000</td>\n",
              "      <td>0.0</td>\n",
              "      <td>0.0</td>\n",
              "      <td>0.0</td>\n",
              "      <td>0.0</td>\n",
              "      <td>...</td>\n",
              "      <td>0.310030</td>\n",
              "      <td>-0.218989</td>\n",
              "      <td>-0.077160</td>\n",
              "      <td>-0.038774</td>\n",
              "      <td>0.162210</td>\n",
              "      <td>-0.052915</td>\n",
              "      <td>0.167200</td>\n",
              "      <td>0.059254</td>\n",
              "      <td>0.039290</td>\n",
              "      <td>0.134820</td>\n",
              "    </tr>\n",
              "    <tr>\n",
              "      <th>4</th>\n",
              "      <td>0.045626</td>\n",
              "      <td>0.066652</td>\n",
              "      <td>0.133848</td>\n",
              "      <td>0.193264</td>\n",
              "      <td>0.556775</td>\n",
              "      <td>0.000000</td>\n",
              "      <td>0.0</td>\n",
              "      <td>0.0</td>\n",
              "      <td>0.0</td>\n",
              "      <td>0.0</td>\n",
              "      <td>...</td>\n",
              "      <td>0.268552</td>\n",
              "      <td>0.212245</td>\n",
              "      <td>0.184841</td>\n",
              "      <td>0.022134</td>\n",
              "      <td>0.108727</td>\n",
              "      <td>-0.105548</td>\n",
              "      <td>0.056528</td>\n",
              "      <td>0.068675</td>\n",
              "      <td>0.005168</td>\n",
              "      <td>0.110122</td>\n",
              "    </tr>\n",
              "  </tbody>\n",
              "</table>\n",
              "<p>5 rows × 220 columns</p>\n",
              "</div>\n",
              "    <div class=\"colab-df-buttons\">\n",
              "\n",
              "  <div class=\"colab-df-container\">\n",
              "    <button class=\"colab-df-convert\" onclick=\"convertToInteractive('df-1f38a845-6251-4b78-b3dc-1f905c88461d')\"\n",
              "            title=\"Convert this dataframe to an interactive table.\"\n",
              "            style=\"display:none;\">\n",
              "\n",
              "  <svg xmlns=\"http://www.w3.org/2000/svg\" height=\"24px\" viewBox=\"0 -960 960 960\">\n",
              "    <path d=\"M120-120v-720h720v720H120Zm60-500h600v-160H180v160Zm220 220h160v-160H400v160Zm0 220h160v-160H400v160ZM180-400h160v-160H180v160Zm440 0h160v-160H620v160ZM180-180h160v-160H180v160Zm440 0h160v-160H620v160Z\"/>\n",
              "  </svg>\n",
              "    </button>\n",
              "\n",
              "  <style>\n",
              "    .colab-df-container {\n",
              "      display:flex;\n",
              "      gap: 12px;\n",
              "    }\n",
              "\n",
              "    .colab-df-convert {\n",
              "      background-color: #E8F0FE;\n",
              "      border: none;\n",
              "      border-radius: 50%;\n",
              "      cursor: pointer;\n",
              "      display: none;\n",
              "      fill: #1967D2;\n",
              "      height: 32px;\n",
              "      padding: 0 0 0 0;\n",
              "      width: 32px;\n",
              "    }\n",
              "\n",
              "    .colab-df-convert:hover {\n",
              "      background-color: #E2EBFA;\n",
              "      box-shadow: 0px 1px 2px rgba(60, 64, 67, 0.3), 0px 1px 3px 1px rgba(60, 64, 67, 0.15);\n",
              "      fill: #174EA6;\n",
              "    }\n",
              "\n",
              "    .colab-df-buttons div {\n",
              "      margin-bottom: 4px;\n",
              "    }\n",
              "\n",
              "    [theme=dark] .colab-df-convert {\n",
              "      background-color: #3B4455;\n",
              "      fill: #D2E3FC;\n",
              "    }\n",
              "\n",
              "    [theme=dark] .colab-df-convert:hover {\n",
              "      background-color: #434B5C;\n",
              "      box-shadow: 0px 1px 3px 1px rgba(0, 0, 0, 0.15);\n",
              "      filter: drop-shadow(0px 1px 2px rgba(0, 0, 0, 0.3));\n",
              "      fill: #FFFFFF;\n",
              "    }\n",
              "  </style>\n",
              "\n",
              "    <script>\n",
              "      const buttonEl =\n",
              "        document.querySelector('#df-1f38a845-6251-4b78-b3dc-1f905c88461d button.colab-df-convert');\n",
              "      buttonEl.style.display =\n",
              "        google.colab.kernel.accessAllowed ? 'block' : 'none';\n",
              "\n",
              "      async function convertToInteractive(key) {\n",
              "        const element = document.querySelector('#df-1f38a845-6251-4b78-b3dc-1f905c88461d');\n",
              "        const dataTable =\n",
              "          await google.colab.kernel.invokeFunction('convertToInteractive',\n",
              "                                                    [key], {});\n",
              "        if (!dataTable) return;\n",
              "\n",
              "        const docLinkHtml = 'Like what you see? Visit the ' +\n",
              "          '<a target=\"_blank\" href=https://colab.research.google.com/notebooks/data_table.ipynb>data table notebook</a>'\n",
              "          + ' to learn more about interactive tables.';\n",
              "        element.innerHTML = '';\n",
              "        dataTable['output_type'] = 'display_data';\n",
              "        await google.colab.output.renderOutput(dataTable, element);\n",
              "        const docLink = document.createElement('div');\n",
              "        docLink.innerHTML = docLinkHtml;\n",
              "        element.appendChild(docLink);\n",
              "      }\n",
              "    </script>\n",
              "  </div>\n",
              "\n",
              "\n",
              "<div id=\"df-5dbdebc2-4635-4634-87e8-bea38421e23f\">\n",
              "  <button class=\"colab-df-quickchart\" onclick=\"quickchart('df-5dbdebc2-4635-4634-87e8-bea38421e23f')\"\n",
              "            title=\"Suggest charts\"\n",
              "            style=\"display:none;\">\n",
              "\n",
              "<svg xmlns=\"http://www.w3.org/2000/svg\" height=\"24px\"viewBox=\"0 0 24 24\"\n",
              "     width=\"24px\">\n",
              "    <g>\n",
              "        <path d=\"M19 3H5c-1.1 0-2 .9-2 2v14c0 1.1.9 2 2 2h14c1.1 0 2-.9 2-2V5c0-1.1-.9-2-2-2zM9 17H7v-7h2v7zm4 0h-2V7h2v10zm4 0h-2v-4h2v4z\"/>\n",
              "    </g>\n",
              "</svg>\n",
              "  </button>\n",
              "\n",
              "<style>\n",
              "  .colab-df-quickchart {\n",
              "      --bg-color: #E8F0FE;\n",
              "      --fill-color: #1967D2;\n",
              "      --hover-bg-color: #E2EBFA;\n",
              "      --hover-fill-color: #174EA6;\n",
              "      --disabled-fill-color: #AAA;\n",
              "      --disabled-bg-color: #DDD;\n",
              "  }\n",
              "\n",
              "  [theme=dark] .colab-df-quickchart {\n",
              "      --bg-color: #3B4455;\n",
              "      --fill-color: #D2E3FC;\n",
              "      --hover-bg-color: #434B5C;\n",
              "      --hover-fill-color: #FFFFFF;\n",
              "      --disabled-bg-color: #3B4455;\n",
              "      --disabled-fill-color: #666;\n",
              "  }\n",
              "\n",
              "  .colab-df-quickchart {\n",
              "    background-color: var(--bg-color);\n",
              "    border: none;\n",
              "    border-radius: 50%;\n",
              "    cursor: pointer;\n",
              "    display: none;\n",
              "    fill: var(--fill-color);\n",
              "    height: 32px;\n",
              "    padding: 0;\n",
              "    width: 32px;\n",
              "  }\n",
              "\n",
              "  .colab-df-quickchart:hover {\n",
              "    background-color: var(--hover-bg-color);\n",
              "    box-shadow: 0 1px 2px rgba(60, 64, 67, 0.3), 0 1px 3px 1px rgba(60, 64, 67, 0.15);\n",
              "    fill: var(--button-hover-fill-color);\n",
              "  }\n",
              "\n",
              "  .colab-df-quickchart-complete:disabled,\n",
              "  .colab-df-quickchart-complete:disabled:hover {\n",
              "    background-color: var(--disabled-bg-color);\n",
              "    fill: var(--disabled-fill-color);\n",
              "    box-shadow: none;\n",
              "  }\n",
              "\n",
              "  .colab-df-spinner {\n",
              "    border: 2px solid var(--fill-color);\n",
              "    border-color: transparent;\n",
              "    border-bottom-color: var(--fill-color);\n",
              "    animation:\n",
              "      spin 1s steps(1) infinite;\n",
              "  }\n",
              "\n",
              "  @keyframes spin {\n",
              "    0% {\n",
              "      border-color: transparent;\n",
              "      border-bottom-color: var(--fill-color);\n",
              "      border-left-color: var(--fill-color);\n",
              "    }\n",
              "    20% {\n",
              "      border-color: transparent;\n",
              "      border-left-color: var(--fill-color);\n",
              "      border-top-color: var(--fill-color);\n",
              "    }\n",
              "    30% {\n",
              "      border-color: transparent;\n",
              "      border-left-color: var(--fill-color);\n",
              "      border-top-color: var(--fill-color);\n",
              "      border-right-color: var(--fill-color);\n",
              "    }\n",
              "    40% {\n",
              "      border-color: transparent;\n",
              "      border-right-color: var(--fill-color);\n",
              "      border-top-color: var(--fill-color);\n",
              "    }\n",
              "    60% {\n",
              "      border-color: transparent;\n",
              "      border-right-color: var(--fill-color);\n",
              "    }\n",
              "    80% {\n",
              "      border-color: transparent;\n",
              "      border-right-color: var(--fill-color);\n",
              "      border-bottom-color: var(--fill-color);\n",
              "    }\n",
              "    90% {\n",
              "      border-color: transparent;\n",
              "      border-bottom-color: var(--fill-color);\n",
              "    }\n",
              "  }\n",
              "</style>\n",
              "\n",
              "  <script>\n",
              "    async function quickchart(key) {\n",
              "      const quickchartButtonEl =\n",
              "        document.querySelector('#' + key + ' button');\n",
              "      quickchartButtonEl.disabled = true;  // To prevent multiple clicks.\n",
              "      quickchartButtonEl.classList.add('colab-df-spinner');\n",
              "      try {\n",
              "        const charts = await google.colab.kernel.invokeFunction(\n",
              "            'suggestCharts', [key], {});\n",
              "      } catch (error) {\n",
              "        console.error('Error during call to suggestCharts:', error);\n",
              "      }\n",
              "      quickchartButtonEl.classList.remove('colab-df-spinner');\n",
              "      quickchartButtonEl.classList.add('colab-df-quickchart-complete');\n",
              "    }\n",
              "    (() => {\n",
              "      let quickchartButtonEl =\n",
              "        document.querySelector('#df-5dbdebc2-4635-4634-87e8-bea38421e23f button');\n",
              "      quickchartButtonEl.style.display =\n",
              "        google.colab.kernel.accessAllowed ? 'block' : 'none';\n",
              "    })();\n",
              "  </script>\n",
              "</div>\n",
              "    </div>\n",
              "  </div>\n"
            ],
            "application/vnd.google.colaboratory.intrinsic+json": {
              "type": "dataframe",
              "variable_name": "df"
            }
          },
          "metadata": {},
          "execution_count": 6
        }
      ],
      "source": [
        "df = pd.read_csv('merged.csv')\n",
        "df.drop('Index', axis=1, inplace=True)\n",
        "df.head()"
      ]
    },
    {
      "cell_type": "code",
      "execution_count": 7,
      "outputs": [
        {
          "output_type": "execute_result",
          "data": {
            "text/plain": [
              "topic_0    0\n",
              "topic_1    0\n",
              "topic_2    0\n",
              "topic_3    0\n",
              "topic_4    0\n",
              "          ..\n",
              "195        0\n",
              "196        0\n",
              "197        0\n",
              "198        0\n",
              "199        0\n",
              "Length: 220, dtype: int64"
            ]
          },
          "metadata": {},
          "execution_count": 7
        }
      ],
      "source": [
        "# Convert Nan values to 0 in each column\n",
        "df = df.fillna(0)\n",
        "# Check if there are any Nan values left\n",
        "df.isnull().sum()"
      ],
      "metadata": {
        "ExecuteTime": {
          "end_time": "2024-06-17T19:27:33.859996Z",
          "start_time": "2024-06-17T19:27:33.833330Z"
        },
        "colab": {
          "base_uri": "https://localhost:8080/"
        },
        "id": "T6TkkfBsOK08",
        "outputId": "3e4b3a8c-6922-4dab-eb33-ffc719358002"
      }
    },
    {
      "cell_type": "code",
      "source": [
        "def get_user_input():\n",
        "    doc_index = int(input(\"Enter the document index (0 to 17999): \"))\n",
        "    num_neighbors = int(input(\"Enter the number of neighbors: \"))\n",
        "    return doc_index, num_neighbors"
      ],
      "metadata": {
        "id": "f3FdTTdRwKmm",
        "ExecuteTime": {
          "end_time": "2024-06-17T19:27:36.410276Z",
          "start_time": "2024-06-17T19:27:36.400157Z"
        }
      },
      "execution_count": 8,
      "outputs": []
    },
    {
      "cell_type": "code",
      "source": [
        "def fit_knn_model(features):\n",
        "    knn = NearestNeighbors(n_neighbors=features.shape[0])  # Use maximum number of neighbors\n",
        "    knn.fit(features)\n",
        "    return knn"
      ],
      "metadata": {
        "id": "XMaU2tINxJiu",
        "ExecuteTime": {
          "end_time": "2024-06-17T19:27:36.931814Z",
          "start_time": "2024-06-17T19:27:36.924468Z"
        }
      },
      "execution_count": 9,
      "outputs": []
    },
    {
      "cell_type": "code",
      "source": [
        "def get_nearest_neighbors(knn, features, doc_index, num_neighbors):\n",
        "    distances, indices = knn.kneighbors(features.iloc[doc_index].values.reshape(1, -1), n_neighbors=num_neighbors + 1)\n",
        "    # Exclude the first neighbor as it is the document itself\n",
        "    return indices.flatten()[1:], distances.flatten()[1:]"
      ],
      "metadata": {
        "id": "l6tuN6GrnG-Z",
        "ExecuteTime": {
          "end_time": "2024-06-17T19:27:37.462899Z",
          "start_time": "2024-06-17T19:27:37.458978Z"
        }
      },
      "execution_count": 10,
      "outputs": []
    },
    {
      "cell_type": "code",
      "source": [
        "knn_model = fit_knn_model(df)\n",
        "# Get user input\n",
        "doc_index, num_neighbors = get_user_input()\n",
        "\n",
        "# Get nearest neighbors\n",
        "neighbor_indices, neighbor_distances = get_nearest_neighbors(knn_model, df, doc_index, num_neighbors)\n",
        "\n",
        "# Retrieve the nearest neighbors from the original DataFrame\n",
        "neighbors_df = df.iloc[neighbor_indices].copy()\n",
        "neighbors_df['Distance'] = neighbor_distances\n",
        "neighbors_df.head()\n",
        "neighbors_df.shape"
      ],
      "metadata": {
        "colab": {
          "base_uri": "https://localhost:8080/"
        },
        "collapsed": true,
        "id": "SWnUn_QznV4g",
        "outputId": "4444d669-6d19-4ff5-e95b-fb54c86d6732",
        "ExecuteTime": {
          "end_time": "2024-06-17T19:27:47.669884Z",
          "start_time": "2024-06-17T19:27:40.662981Z"
        }
      },
      "execution_count": 12,
      "outputs": [
        {
          "name": "stdout",
          "output_type": "stream",
          "text": [
            "Enter the document index (0 to 17999): 100\n",
            "Enter the number of neighbors: 50\n"
          ]
        },
        {
          "output_type": "stream",
          "name": "stderr",
          "text": [
            "/usr/local/lib/python3.10/dist-packages/sklearn/base.py:439: UserWarning: X does not have valid feature names, but NearestNeighbors was fitted with feature names\n",
            "  warnings.warn(\n"
          ]
        },
        {
          "output_type": "execute_result",
          "data": {
            "text/plain": [
              "(50, 221)"
            ]
          },
          "metadata": {},
          "execution_count": 12
        }
      ]
    },
    {
      "cell_type": "code",
      "source": [
        "k=3\n",
        "features_for_som = neighbors_df.drop(columns=['Distance']).values\n",
        "\n",
        "#hierarchical clustering\n",
        "linkage_matrix = linkage(features_for_som, method='ward')\n",
        "cluster_labels = fcluster(linkage_matrix, t=k, criterion='maxclust')\n",
        "\n",
        "centroids = []\n",
        "for i in range(1, k + 1):\n",
        "    cluster_points = features_for_som[cluster_labels == i]\n",
        "    centroid = cluster_points.mean(axis=0)\n",
        "    centroids.append(centroid)\n",
        "\n",
        "centroids = np.array(centroids)"
      ],
      "metadata": {
        "id": "iHFdr6ErPLph"
      },
      "execution_count": 17,
      "outputs": []
    },
    {
      "cell_type": "code",
      "execution_count": 18,
      "outputs": [
        {
          "output_type": "stream",
          "name": "stdout",
          "text": [
            " [ 1000 / 1000 ] 100% - 0:00:00 left \n",
            " quantization error: 0.10277453315641769\n"
          ]
        },
        {
          "output_type": "execute_result",
          "data": {
            "text/plain": [
              "(50, 222)"
            ]
          },
          "metadata": {},
          "execution_count": 18
        }
      ],
      "source": [
        "som_shape = (1,k)\n",
        "som = MiniSom(som_shape[0], som_shape[1], features_for_som.shape[1], sigma=.5, learning_rate=.5,\n",
        "              neighborhood_function='gaussian', random_seed=10)\n",
        "\n",
        "som.weights = centroids.reshape(som_shape[0], som_shape[1], features_for_som.shape[1])\n",
        "\n",
        "som.train_batch(features_for_som, 1000, verbose=True)\n",
        "\n",
        "win_map = som.win_map(features_for_som)\n",
        "cluster_index = np.zeros(features_for_som.shape[0], dtype=int)\n",
        "\n",
        "for i, x in enumerate(features_for_som):\n",
        "    w = som.winner(x)\n",
        "    cluster_index[i] = w[1]  # since som_shape is (1, k), we use the second index\n",
        "\n",
        "neighbors_df['cluster'] = cluster_index\n",
        "#neighbors_df = neighbors_df.drop(columns=['Distance'])\n",
        "neighbors_df.head()\n",
        "neighbors_df.shape"
      ],
      "metadata": {
        "ExecuteTime": {
          "end_time": "2024-06-17T19:27:53.395926Z",
          "start_time": "2024-06-17T19:27:53.364503Z"
        },
        "colab": {
          "base_uri": "https://localhost:8080/"
        },
        "id": "xtZo2Z3POK0-",
        "outputId": "a8dab0fa-cc2b-4fca-932f-2dffa2710076"
      }
    },
    {
      "cell_type": "code",
      "execution_count": 19,
      "outputs": [
        {
          "output_type": "display_data",
          "data": {
            "text/plain": [
              "<Figure size 800x600 with 1 Axes>"
            ],
            "image/png": "[encoded data removed]"
          },
          "metadata": {}
        }
      ],
      "source": [
        "plt.figure(figsize=(8, 6))\n",
        "for c in np.unique(cluster_index):\n",
        "    plt.scatter(features_for_som[cluster_index == c, 0],\n",
        "                features_for_som[cluster_index == c, 1], label='cluster=' + str(c), alpha=.7)\n",
        "\n",
        "# Plotting centroids\n",
        "centroids = som.get_weights().reshape(-1, features_for_som.shape[1])\n",
        "plt.scatter(centroids[:, 0], centroids[:, 1], marker='x',\n",
        "            s=100, linewidths=3, color='k', label='centroid')\n",
        "plt.legend()\n",
        "plt.show()\n"
      ],
      "metadata": {
        "ExecuteTime": {
          "end_time": "2024-06-17T19:27:58.698773Z",
          "start_time": "2024-06-17T19:27:58.599390Z"
        },
        "colab": {
          "base_uri": "https://localhost:8080/",
          "height": 522
        },
        "id": "LT6W6VUjOK0-",
        "outputId": "d3837fa2-0faf-4850-a7da-92176925ce26"
      }
    },
    {
      "cell_type": "markdown",
      "source": [
        "## Cluster Evalution"
      ],
      "metadata": {
        "collapsed": false,
        "id": "nrylgDFjOK0-"
      }
    },
    {
      "cell_type": "code",
      "execution_count": 20,
      "outputs": [
        {
          "output_type": "stream",
          "name": "stdout",
          "text": [
            "Empty clusters: []\n",
            "Silhouette Coefficient: 0.646758782718506\n"
          ]
        }
      ],
      "source": [
        "empty_clusters = [c for c in range(k) if np.sum(cluster_index == c) == 0]\n",
        "print(f\"Empty clusters: {empty_clusters}\")\n",
        "\n",
        "if len(empty_clusters) == 0:  # Compute only if there are no empty clusters\n",
        "    silhouette_avg = silhouette_score(features_for_som, cluster_index)\n",
        "    print(f\"Silhouette Coefficient: {silhouette_avg}\")\n",
        "else:\n",
        "    print(\"Cannot compute silhouette score due to empty clusters.\")"
      ],
      "metadata": {
        "ExecuteTime": {
          "end_time": "2024-06-17T19:28:16.097482Z",
          "start_time": "2024-06-17T19:28:16.091053Z"
        },
        "colab": {
          "base_uri": "https://localhost:8080/"
        },
        "id": "KrmdqNXrOK1A",
        "outputId": "c90f782f-3080-4c03-b31b-485dc39ce7b4"
      }
    },
    {
      "cell_type": "code",
      "execution_count": 21,
      "outputs": [
        {
          "output_type": "stream",
          "name": "stdout",
          "text": [
            "Calinski-Harabasz Index: 33.950294825857675\n"
          ]
        }
      ],
      "source": [
        "if len(empty_clusters) == 0:  # Compute only if there are no empty clusters\n",
        "    ch_score = calinski_harabasz_score(features_for_som, cluster_index)\n",
        "    print(f\"Calinski-Harabasz Index: {ch_score}\")\n",
        "else:\n",
        "    print(\"Cannot compute Calinski-Harabasz Index due to empty clusters.\")"
      ],
      "metadata": {
        "ExecuteTime": {
          "end_time": "2024-06-17T19:28:20.446283Z",
          "start_time": "2024-06-17T19:28:20.441260Z"
        },
        "colab": {
          "base_uri": "https://localhost:8080/"
        },
        "id": "EX32-HW1OK1B",
        "outputId": "6ec1317b-b87e-4bf8-b299-43e9cc4916bc"
      }
    },
    {
      "cell_type": "code",
      "execution_count": 22,
      "outputs": [],
      "source": [
        "# put all the columns of the neighbors_df in the X variable except the cluster column\n",
        "features = neighbors_df.drop(columns=['cluster','Distance'])\n",
        "cluster_labels = neighbors_df['cluster']\n"
      ],
      "metadata": {
        "ExecuteTime": {
          "end_time": "2024-06-17T20:39:42.311979Z",
          "start_time": "2024-06-17T20:39:42.299414Z"
        },
        "id": "56XPGWL4OK1C"
      }
    },
    {
      "cell_type": "code",
      "execution_count": 23,
      "outputs": [
        {
          "output_type": "stream",
          "name": "stdout",
          "text": [
            "The accuracy of the Random Forests model is :\t 0.9\n"
          ]
        }
      ],
      "source": [
        "from sklearn import metrics\n",
        "from sklearn.ensemble import RandomForestClassifier\n",
        "from sklearn.model_selection import train_test_split\n",
        "\n",
        "# Split the data into training and test sets\n",
        "X_Train, X_Test, Y_Train, Y_Test = train_test_split(features, cluster_labels, test_size=0.2, random_state=42)\n",
        "\n",
        "# Train the classifier\n",
        "clf = RandomForestClassifier(n_estimators=100, random_state=42)\n",
        "clf.fit(X_Train, Y_Train)\n",
        "random_forest_preds = clf.predict(X_Test)\n",
        "print('The accuracy of the Random Forests model is :\\t',metrics.accuracy_score(random_forest_preds,Y_Test))"
      ],
      "metadata": {
        "ExecuteTime": {
          "end_time": "2024-06-17T20:39:48.539031Z",
          "start_time": "2024-06-17T20:39:48.485908Z"
        },
        "colab": {
          "base_uri": "https://localhost:8080/"
        },
        "id": "ARPxFZjSOK1C",
        "outputId": "4e8e9d09-2b65-4cdb-ab51-0cfe0ef6ebed"
      }
    },
    {
      "cell_type": "code",
      "execution_count": null,
      "outputs": [],
      "source": [
        "import shap\n",
        "\n",
        "explainer = shap.TreeExplainer(clf)\n",
        "shap_values = explainer.shap_values(features)\n",
        "shap_values.shape\n",
        "\n",
        "shap_values_ = shap_values.transpose((2,0,1))\n",
        "#\n",
        "shap_values_[0].shape\n",
        "shap.summary_plot(shap_values_[0], features)\n",
        "\n",
        "# Similarly plot for other clusters"
      ],
      "metadata": {
        "ExecuteTime": {
          "end_time": "2024-06-17T21:03:53.274811Z",
          "start_time": "2024-06-17T21:03:53.065505Z"
        },
        "id": "WZgr1xVxOK1C"
      }
    },
    {
      "cell_type": "code",
      "execution_count": null,
      "outputs": [],
      "source": [],
      "metadata": {
        "id": "4yVT9YBuOK1C"
      }
    }
  ]
}