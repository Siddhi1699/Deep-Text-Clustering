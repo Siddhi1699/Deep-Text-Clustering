{
 "nbformat": 4,
 "nbformat_minor": 0,
 "metadata": {
  "colab": {
   "provenance": []
  },
  "kernelspec": {
   "name": "python3",
   "language": "python",
   "display_name": "Python 3 (ipykernel)"
  },
  "language_info": {
   "name": "python"
  }
 },
 "cells": [
  {
   "cell_type": "code",
   "execution_count": 57,
   "outputs": [],
   "source": [
    "import numpy as np\n",
    "import pandas as pd\n",
    "from matplotlib import pyplot as plt\n",
    "from sklearn.metrics import silhouette_score, calinski_harabasz_score\n",
    "from sklearn.neighbors import NearestNeighbors\n",
    "from minisom import MiniSom\n",
    "import numpy as np\n",
    "import pandas as pd"
   ],
   "metadata": {
    "collapsed": false,
    "ExecuteTime": {
     "end_time": "2024-06-17T13:42:23.283707Z",
     "start_time": "2024-06-17T13:42:23.277454Z"
    }
   }
  },
  {
   "cell_type": "code",
   "execution_count": 27,
   "metadata": {
    "id": "HZlatlDgADpo",
    "ExecuteTime": {
     "end_time": "2024-06-17T12:41:58.105278Z",
     "start_time": "2024-06-17T12:41:57.961813Z"
    }
   },
   "outputs": [
    {
     "data": {
      "text/plain": "    topic_0   topic_1   topic_2   topic_3   topic_4   topic_5  topic_6  \\\n0  0.029291  0.122669  0.078690  0.509404  0.257012  0.000000      0.0   \n1  0.072681  0.114266  0.434530  0.297216  0.072028  0.000000      0.0   \n2  0.532546  0.181123  0.050537  0.051361  0.069668  0.113055      0.0   \n3  0.269257  0.163069  0.563442  0.000000  0.000000  0.000000      0.0   \n4  0.045626  0.066652  0.133848  0.193264  0.556775  0.000000      0.0   \n\n   topic_7  topic_8  topic_9  ...       190       191       192       193  \\\n0      0.0      0.0      0.0  ... -0.068914  0.165855 -0.139714  0.018813   \n1      0.0      0.0      0.0  ...  0.164396 -0.031148 -0.016781 -0.069668   \n2      0.0      0.0      0.0  ... -0.125470  0.051412  0.059226 -0.057874   \n3      0.0      0.0      0.0  ...  0.310030 -0.218989 -0.077160 -0.038774   \n4      0.0      0.0      0.0  ...  0.268552  0.212245  0.184841  0.022134   \n\n        194       195       196       197       198       199  \n0  0.186408  0.246452  0.127322  0.037057  0.035583 -0.192175  \n1  0.120217  0.086646  0.081417 -0.013408 -0.056917 -0.052905  \n2  0.426521 -0.072455  0.080208  0.068673 -0.240681 -0.269405  \n3  0.162210 -0.052915  0.167200  0.059254  0.039290  0.134820  \n4  0.108727 -0.105548  0.056528  0.068675  0.005168  0.110122  \n\n[5 rows x 220 columns]",
      "text/html": "<div>\n<style scoped>\n    .dataframe tbody tr th:only-of-type {\n        vertical-align: middle;\n    }\n\n    .dataframe tbody tr th {\n        vertical-align: top;\n    }\n\n    .dataframe thead th {\n        text-align: right;\n    }\n</style>\n<table border=\"1\" class=\"dataframe\">\n  <thead>\n    <tr style=\"text-align: right;\">\n      <th></th>\n      <th>topic_0</th>\n      <th>topic_1</th>\n      <th>topic_2</th>\n      <th>topic_3</th>\n      <th>topic_4</th>\n      <th>topic_5</th>\n      <th>topic_6</th>\n      <th>topic_7</th>\n      <th>topic_8</th>\n      <th>topic_9</th>\n      <th>...</th>\n      <th>190</th>\n      <th>191</th>\n      <th>192</th>\n      <th>193</th>\n      <th>194</th>\n      <th>195</th>\n      <th>196</th>\n      <th>197</th>\n      <th>198</th>\n      <th>199</th>\n    </tr>\n  </thead>\n  <tbody>\n    <tr>\n      <th>0</th>\n      <td>0.029291</td>\n      <td>0.122669</td>\n      <td>0.078690</td>\n      <td>0.509404</td>\n      <td>0.257012</td>\n      <td>0.000000</td>\n      <td>0.0</td>\n      <td>0.0</td>\n      <td>0.0</td>\n      <td>0.0</td>\n      <td>...</td>\n      <td>-0.068914</td>\n      <td>0.165855</td>\n      <td>-0.139714</td>\n      <td>0.018813</td>\n      <td>0.186408</td>\n      <td>0.246452</td>\n      <td>0.127322</td>\n      <td>0.037057</td>\n      <td>0.035583</td>\n      <td>-0.192175</td>\n    </tr>\n    <tr>\n      <th>1</th>\n      <td>0.072681</td>\n      <td>0.114266</td>\n      <td>0.434530</td>\n      <td>0.297216</td>\n      <td>0.072028</td>\n      <td>0.000000</td>\n      <td>0.0</td>\n      <td>0.0</td>\n      <td>0.0</td>\n      <td>0.0</td>\n      <td>...</td>\n      <td>0.164396</td>\n      <td>-0.031148</td>\n      <td>-0.016781</td>\n      <td>-0.069668</td>\n      <td>0.120217</td>\n      <td>0.086646</td>\n      <td>0.081417</td>\n      <td>-0.013408</td>\n      <td>-0.056917</td>\n      <td>-0.052905</td>\n    </tr>\n    <tr>\n      <th>2</th>\n      <td>0.532546</td>\n      <td>0.181123</td>\n      <td>0.050537</td>\n      <td>0.051361</td>\n      <td>0.069668</td>\n      <td>0.113055</td>\n      <td>0.0</td>\n      <td>0.0</td>\n      <td>0.0</td>\n      <td>0.0</td>\n      <td>...</td>\n      <td>-0.125470</td>\n      <td>0.051412</td>\n      <td>0.059226</td>\n      <td>-0.057874</td>\n      <td>0.426521</td>\n      <td>-0.072455</td>\n      <td>0.080208</td>\n      <td>0.068673</td>\n      <td>-0.240681</td>\n      <td>-0.269405</td>\n    </tr>\n    <tr>\n      <th>3</th>\n      <td>0.269257</td>\n      <td>0.163069</td>\n      <td>0.563442</td>\n      <td>0.000000</td>\n      <td>0.000000</td>\n      <td>0.000000</td>\n      <td>0.0</td>\n      <td>0.0</td>\n      <td>0.0</td>\n      <td>0.0</td>\n      <td>...</td>\n      <td>0.310030</td>\n      <td>-0.218989</td>\n      <td>-0.077160</td>\n      <td>-0.038774</td>\n      <td>0.162210</td>\n      <td>-0.052915</td>\n      <td>0.167200</td>\n      <td>0.059254</td>\n      <td>0.039290</td>\n      <td>0.134820</td>\n    </tr>\n    <tr>\n      <th>4</th>\n      <td>0.045626</td>\n      <td>0.066652</td>\n      <td>0.133848</td>\n      <td>0.193264</td>\n      <td>0.556775</td>\n      <td>0.000000</td>\n      <td>0.0</td>\n      <td>0.0</td>\n      <td>0.0</td>\n      <td>0.0</td>\n      <td>...</td>\n      <td>0.268552</td>\n      <td>0.212245</td>\n      <td>0.184841</td>\n      <td>0.022134</td>\n      <td>0.108727</td>\n      <td>-0.105548</td>\n      <td>0.056528</td>\n      <td>0.068675</td>\n      <td>0.005168</td>\n      <td>0.110122</td>\n    </tr>\n  </tbody>\n</table>\n<p>5 rows × 220 columns</p>\n</div>"
     },
     "execution_count": 27,
     "metadata": {},
     "output_type": "execute_result"
    }
   ],
   "source": [
    "df = pd.read_csv('./data/merged.csv')\n",
    "df.drop('Index', axis=1, inplace=True)\n",
    "df.head()"
   ]
  },
  {
   "cell_type": "code",
   "execution_count": 28,
   "outputs": [
    {
     "data": {
      "text/plain": "topic_0    0\ntopic_1    0\ntopic_2    0\ntopic_3    0\ntopic_4    0\n          ..\n195        0\n196        0\n197        0\n198        0\n199        0\nLength: 220, dtype: int64"
     },
     "execution_count": 28,
     "metadata": {},
     "output_type": "execute_result"
    }
   ],
   "source": [
    "# Convert Nan values to 0 in each column\n",
    "df = df.fillna(0)\n",
    "# Check if there are any Nan values left\n",
    "df.isnull().sum()"
   ],
   "metadata": {
    "collapsed": false,
    "ExecuteTime": {
     "end_time": "2024-06-17T12:41:59.445014Z",
     "start_time": "2024-06-17T12:41:59.419039Z"
    }
   }
  },
  {
   "cell_type": "code",
   "source": [
    "def get_user_input():\n",
    "    doc_index = int(input(\"Enter the document index (0 to 17999): \"))\n",
    "    num_neighbors = int(input(\"Enter the number of neighbors: \"))\n",
    "    return doc_index, num_neighbors"
   ],
   "metadata": {
    "colab": {
     "base_uri": "https://localhost:8080/"
    },
    "id": "f3FdTTdRwKmm",
    "outputId": "9d1a26c4-901f-4215-8c3e-442785d44bf8",
    "ExecuteTime": {
     "end_time": "2024-06-17T12:42:00.284923Z",
     "start_time": "2024-06-17T12:42:00.279987Z"
    }
   },
   "execution_count": 29,
   "outputs": []
  },
  {
   "cell_type": "code",
   "source": [
    "def fit_knn_model(features):\n",
    "    knn = NearestNeighbors(n_neighbors=features.shape[0])  # Use maximum number of neighbors\n",
    "    knn.fit(features)\n",
    "    return knn"
   ],
   "metadata": {
    "colab": {
     "base_uri": "https://localhost:8080/"
    },
    "id": "XMaU2tINxJiu",
    "outputId": "07879851-bbaa-48a5-931c-972fb626f338",
    "ExecuteTime": {
     "end_time": "2024-06-17T12:42:01.037960Z",
     "start_time": "2024-06-17T12:42:01.033855Z"
    }
   },
   "execution_count": 30,
   "outputs": []
  },
  {
   "cell_type": "code",
   "source": [
    "def get_nearest_neighbors(knn, features, doc_index, num_neighbors):\n",
    "    distances, indices = knn.kneighbors(features.iloc[doc_index].values.reshape(1, -1), n_neighbors=num_neighbors + 1)\n",
    "    # Exclude the first neighbor as it is the document itself\n",
    "    return indices.flatten()[1:], distances.flatten()[1:]"
   ],
   "metadata": {
    "colab": {
     "base_uri": "https://localhost:8080/"
    },
    "id": "l6tuN6GrnG-Z",
    "outputId": "dadc914a-fee6-4e81-8f90-ed9dab702e2d",
    "ExecuteTime": {
     "end_time": "2024-06-17T12:42:01.540177Z",
     "start_time": "2024-06-17T12:42:01.537207Z"
    }
   },
   "execution_count": 31,
   "outputs": []
  },
  {
   "cell_type": "code",
   "source": [
    " knn_model = fit_knn_model(df)\n",
    "# Get user input\n",
    "doc_index, num_neighbors = get_user_input()\n",
    "    \n",
    "# Get nearest neighbors\n",
    "neighbor_indices, neighbor_distances = get_nearest_neighbors(knn_model, df, doc_index, num_neighbors)\n",
    "    \n",
    "# Retrieve the nearest neighbors from the original DataFrame\n",
    "neighbors_df = df.iloc[neighbor_indices].copy()\n",
    "neighbors_df['Distance'] = neighbor_distances\n",
    "neighbors_df.head()\n"
   ],
   "metadata": {
    "colab": {
     "base_uri": "https://localhost:8080/"
    },
    "collapsed": true,
    "id": "SWnUn_QznV4g",
    "outputId": "4077dc5f-f018-48a8-db6e-d6bc3a96840b",
    "ExecuteTime": {
     "end_time": "2024-06-17T12:45:37.936588Z",
     "start_time": "2024-06-17T12:45:34.236531Z"
    }
   },
   "execution_count": 34,
   "outputs": [
    {
     "name": "stderr",
     "output_type": "stream",
     "text": [
      "/opt/homebrew/lib/python3.11/site-packages/sklearn/base.py:465: UserWarning: X does not have valid feature names, but NearestNeighbors was fitted with feature names\n",
      "  warnings.warn(\n"
     ]
    },
    {
     "data": {
      "text/plain": "       topic_0   topic_1   topic_2   topic_3  topic_4  topic_5  topic_6  \\\n2637  0.158876  0.350887  0.473560  0.000000      0.0      0.0      0.0   \n3762  0.194567  0.207059  0.273396  0.311719      0.0      0.0      0.0   \n3608  0.228800  0.217574  0.227772  0.295056      0.0      0.0      0.0   \n2470  0.194207  0.354070  0.419027  0.000000      0.0      0.0      0.0   \n1027  0.166017  0.165659  0.640901  0.000000      0.0      0.0      0.0   \n\n      topic_7  topic_8  topic_9  ...       191       192       193       194  \\\n2637      0.0      0.0      0.0  ... -0.047055  0.011784 -0.001211  0.149493   \n3762      0.0      0.0      0.0  ...  0.000660  0.005798 -0.018581  0.045754   \n3608      0.0      0.0      0.0  ... -0.010923  0.030193 -0.023042 -0.005695   \n2470      0.0      0.0      0.0  ...  0.001552 -0.007068 -0.039722  0.005613   \n1027      0.0      0.0      0.0  ... -0.005323  0.020201 -0.015793  0.033783   \n\n           195       196       197       198       199  Distance  \n2637 -0.029266 -0.077246  0.030169  0.107547  0.006185  1.118018  \n3762  0.056317 -0.000024 -0.010961 -0.004574 -0.140915  1.138916  \n3608 -0.039454 -0.030821 -0.064944  0.033307 -0.023928  1.162755  \n2470  0.079648 -0.030041 -0.035324  0.061459 -0.057760  1.193063  \n1027 -0.046053 -0.032718 -0.019871 -0.011499 -0.056445  1.198059  \n\n[5 rows x 221 columns]",
      "text/html": "<div>\n<style scoped>\n    .dataframe tbody tr th:only-of-type {\n        vertical-align: middle;\n    }\n\n    .dataframe tbody tr th {\n        vertical-align: top;\n    }\n\n    .dataframe thead th {\n        text-align: right;\n    }\n</style>\n<table border=\"1\" class=\"dataframe\">\n  <thead>\n    <tr style=\"text-align: right;\">\n      <th></th>\n      <th>topic_0</th>\n      <th>topic_1</th>\n      <th>topic_2</th>\n      <th>topic_3</th>\n      <th>topic_4</th>\n      <th>topic_5</th>\n      <th>topic_6</th>\n      <th>topic_7</th>\n      <th>topic_8</th>\n      <th>topic_9</th>\n      <th>...</th>\n      <th>191</th>\n      <th>192</th>\n      <th>193</th>\n      <th>194</th>\n      <th>195</th>\n      <th>196</th>\n      <th>197</th>\n      <th>198</th>\n      <th>199</th>\n      <th>Distance</th>\n    </tr>\n  </thead>\n  <tbody>\n    <tr>\n      <th>2637</th>\n      <td>0.158876</td>\n      <td>0.350887</td>\n      <td>0.473560</td>\n      <td>0.000000</td>\n      <td>0.0</td>\n      <td>0.0</td>\n      <td>0.0</td>\n      <td>0.0</td>\n      <td>0.0</td>\n      <td>0.0</td>\n      <td>...</td>\n      <td>-0.047055</td>\n      <td>0.011784</td>\n      <td>-0.001211</td>\n      <td>0.149493</td>\n      <td>-0.029266</td>\n      <td>-0.077246</td>\n      <td>0.030169</td>\n      <td>0.107547</td>\n      <td>0.006185</td>\n      <td>1.118018</td>\n    </tr>\n    <tr>\n      <th>3762</th>\n      <td>0.194567</td>\n      <td>0.207059</td>\n      <td>0.273396</td>\n      <td>0.311719</td>\n      <td>0.0</td>\n      <td>0.0</td>\n      <td>0.0</td>\n      <td>0.0</td>\n      <td>0.0</td>\n      <td>0.0</td>\n      <td>...</td>\n      <td>0.000660</td>\n      <td>0.005798</td>\n      <td>-0.018581</td>\n      <td>0.045754</td>\n      <td>0.056317</td>\n      <td>-0.000024</td>\n      <td>-0.010961</td>\n      <td>-0.004574</td>\n      <td>-0.140915</td>\n      <td>1.138916</td>\n    </tr>\n    <tr>\n      <th>3608</th>\n      <td>0.228800</td>\n      <td>0.217574</td>\n      <td>0.227772</td>\n      <td>0.295056</td>\n      <td>0.0</td>\n      <td>0.0</td>\n      <td>0.0</td>\n      <td>0.0</td>\n      <td>0.0</td>\n      <td>0.0</td>\n      <td>...</td>\n      <td>-0.010923</td>\n      <td>0.030193</td>\n      <td>-0.023042</td>\n      <td>-0.005695</td>\n      <td>-0.039454</td>\n      <td>-0.030821</td>\n      <td>-0.064944</td>\n      <td>0.033307</td>\n      <td>-0.023928</td>\n      <td>1.162755</td>\n    </tr>\n    <tr>\n      <th>2470</th>\n      <td>0.194207</td>\n      <td>0.354070</td>\n      <td>0.419027</td>\n      <td>0.000000</td>\n      <td>0.0</td>\n      <td>0.0</td>\n      <td>0.0</td>\n      <td>0.0</td>\n      <td>0.0</td>\n      <td>0.0</td>\n      <td>...</td>\n      <td>0.001552</td>\n      <td>-0.007068</td>\n      <td>-0.039722</td>\n      <td>0.005613</td>\n      <td>0.079648</td>\n      <td>-0.030041</td>\n      <td>-0.035324</td>\n      <td>0.061459</td>\n      <td>-0.057760</td>\n      <td>1.193063</td>\n    </tr>\n    <tr>\n      <th>1027</th>\n      <td>0.166017</td>\n      <td>0.165659</td>\n      <td>0.640901</td>\n      <td>0.000000</td>\n      <td>0.0</td>\n      <td>0.0</td>\n      <td>0.0</td>\n      <td>0.0</td>\n      <td>0.0</td>\n      <td>0.0</td>\n      <td>...</td>\n      <td>-0.005323</td>\n      <td>0.020201</td>\n      <td>-0.015793</td>\n      <td>0.033783</td>\n      <td>-0.046053</td>\n      <td>-0.032718</td>\n      <td>-0.019871</td>\n      <td>-0.011499</td>\n      <td>-0.056445</td>\n      <td>1.198059</td>\n    </tr>\n  </tbody>\n</table>\n<p>5 rows × 221 columns</p>\n</div>"
     },
     "execution_count": 34,
     "metadata": {},
     "output_type": "execute_result"
    }
   ]
  },
  {
   "cell_type": "code",
   "execution_count": 52,
   "outputs": [
    {
     "name": "stdout",
     "output_type": "stream",
     "text": [
      " [ 1000 / 1000 ] 100% - 0:00:00 left \n",
      " quantization error: 0.18124554904454604\n"
     ]
    },
    {
     "data": {
      "text/plain": "       topic_0   topic_1   topic_2   topic_3  topic_4  topic_5  topic_6  \\\n2637  0.158876  0.350887  0.473560  0.000000      0.0      0.0      0.0   \n3762  0.194567  0.207059  0.273396  0.311719      0.0      0.0      0.0   \n3608  0.228800  0.217574  0.227772  0.295056      0.0      0.0      0.0   \n2470  0.194207  0.354070  0.419027  0.000000      0.0      0.0      0.0   \n1027  0.166017  0.165659  0.640901  0.000000      0.0      0.0      0.0   \n\n      topic_7  topic_8  topic_9  ...       191       192       193       194  \\\n2637      0.0      0.0      0.0  ... -0.047055  0.011784 -0.001211  0.149493   \n3762      0.0      0.0      0.0  ...  0.000660  0.005798 -0.018581  0.045754   \n3608      0.0      0.0      0.0  ... -0.010923  0.030193 -0.023042 -0.005695   \n2470      0.0      0.0      0.0  ...  0.001552 -0.007068 -0.039722  0.005613   \n1027      0.0      0.0      0.0  ... -0.005323  0.020201 -0.015793  0.033783   \n\n           195       196       197       198       199  cluster  \n2637 -0.029266 -0.077246  0.030169  0.107547  0.006185        0  \n3762  0.056317 -0.000024 -0.010961 -0.004574 -0.140915        0  \n3608 -0.039454 -0.030821 -0.064944  0.033307 -0.023928        0  \n2470  0.079648 -0.030041 -0.035324  0.061459 -0.057760        0  \n1027 -0.046053 -0.032718 -0.019871 -0.011499 -0.056445        0  \n\n[5 rows x 221 columns]",
      "text/html": "<div>\n<style scoped>\n    .dataframe tbody tr th:only-of-type {\n        vertical-align: middle;\n    }\n\n    .dataframe tbody tr th {\n        vertical-align: top;\n    }\n\n    .dataframe thead th {\n        text-align: right;\n    }\n</style>\n<table border=\"1\" class=\"dataframe\">\n  <thead>\n    <tr style=\"text-align: right;\">\n      <th></th>\n      <th>topic_0</th>\n      <th>topic_1</th>\n      <th>topic_2</th>\n      <th>topic_3</th>\n      <th>topic_4</th>\n      <th>topic_5</th>\n      <th>topic_6</th>\n      <th>topic_7</th>\n      <th>topic_8</th>\n      <th>topic_9</th>\n      <th>...</th>\n      <th>191</th>\n      <th>192</th>\n      <th>193</th>\n      <th>194</th>\n      <th>195</th>\n      <th>196</th>\n      <th>197</th>\n      <th>198</th>\n      <th>199</th>\n      <th>cluster</th>\n    </tr>\n  </thead>\n  <tbody>\n    <tr>\n      <th>2637</th>\n      <td>0.158876</td>\n      <td>0.350887</td>\n      <td>0.473560</td>\n      <td>0.000000</td>\n      <td>0.0</td>\n      <td>0.0</td>\n      <td>0.0</td>\n      <td>0.0</td>\n      <td>0.0</td>\n      <td>0.0</td>\n      <td>...</td>\n      <td>-0.047055</td>\n      <td>0.011784</td>\n      <td>-0.001211</td>\n      <td>0.149493</td>\n      <td>-0.029266</td>\n      <td>-0.077246</td>\n      <td>0.030169</td>\n      <td>0.107547</td>\n      <td>0.006185</td>\n      <td>0</td>\n    </tr>\n    <tr>\n      <th>3762</th>\n      <td>0.194567</td>\n      <td>0.207059</td>\n      <td>0.273396</td>\n      <td>0.311719</td>\n      <td>0.0</td>\n      <td>0.0</td>\n      <td>0.0</td>\n      <td>0.0</td>\n      <td>0.0</td>\n      <td>0.0</td>\n      <td>...</td>\n      <td>0.000660</td>\n      <td>0.005798</td>\n      <td>-0.018581</td>\n      <td>0.045754</td>\n      <td>0.056317</td>\n      <td>-0.000024</td>\n      <td>-0.010961</td>\n      <td>-0.004574</td>\n      <td>-0.140915</td>\n      <td>0</td>\n    </tr>\n    <tr>\n      <th>3608</th>\n      <td>0.228800</td>\n      <td>0.217574</td>\n      <td>0.227772</td>\n      <td>0.295056</td>\n      <td>0.0</td>\n      <td>0.0</td>\n      <td>0.0</td>\n      <td>0.0</td>\n      <td>0.0</td>\n      <td>0.0</td>\n      <td>...</td>\n      <td>-0.010923</td>\n      <td>0.030193</td>\n      <td>-0.023042</td>\n      <td>-0.005695</td>\n      <td>-0.039454</td>\n      <td>-0.030821</td>\n      <td>-0.064944</td>\n      <td>0.033307</td>\n      <td>-0.023928</td>\n      <td>0</td>\n    </tr>\n    <tr>\n      <th>2470</th>\n      <td>0.194207</td>\n      <td>0.354070</td>\n      <td>0.419027</td>\n      <td>0.000000</td>\n      <td>0.0</td>\n      <td>0.0</td>\n      <td>0.0</td>\n      <td>0.0</td>\n      <td>0.0</td>\n      <td>0.0</td>\n      <td>...</td>\n      <td>0.001552</td>\n      <td>-0.007068</td>\n      <td>-0.039722</td>\n      <td>0.005613</td>\n      <td>0.079648</td>\n      <td>-0.030041</td>\n      <td>-0.035324</td>\n      <td>0.061459</td>\n      <td>-0.057760</td>\n      <td>0</td>\n    </tr>\n    <tr>\n      <th>1027</th>\n      <td>0.166017</td>\n      <td>0.165659</td>\n      <td>0.640901</td>\n      <td>0.000000</td>\n      <td>0.0</td>\n      <td>0.0</td>\n      <td>0.0</td>\n      <td>0.0</td>\n      <td>0.0</td>\n      <td>0.0</td>\n      <td>...</td>\n      <td>-0.005323</td>\n      <td>0.020201</td>\n      <td>-0.015793</td>\n      <td>0.033783</td>\n      <td>-0.046053</td>\n      <td>-0.032718</td>\n      <td>-0.019871</td>\n      <td>-0.011499</td>\n      <td>-0.056445</td>\n      <td>0</td>\n    </tr>\n  </tbody>\n</table>\n<p>5 rows × 221 columns</p>\n</div>"
     },
     "execution_count": 52,
     "metadata": {},
     "output_type": "execute_result"
    }
   ],
   "source": [
    "k = 3\n",
    "som_shape = (1,k)\n",
    "\n",
    "# Extract features for SOM training (excluding 'Distance' column)\n",
    "features_for_som = neighbors_df.drop(columns=['Distance']).values\n",
    "\n",
    "# Initialize and train SOM\n",
    "som = MiniSom(som_shape[0], som_shape[1], features_for_som.shape[1], sigma=.5, learning_rate=.5,\n",
    "              neighborhood_function='gaussian', random_seed=10)\n",
    "som.train_batch(features_for_som, 1000, verbose=True)\n",
    "\n",
    "# Assign each data point to a cluster\n",
    "win_map = som.win_map(features_for_som)\n",
    "cluster_index = np.zeros(features_for_som.shape[0], dtype=int)\n",
    "\n",
    "for i, x in enumerate(features_for_som):\n",
    "    w = som.winner(x)\n",
    "    cluster_index[i] = w[1]  # since som_shape is (1, k), we use the second index\n",
    "\n",
    "# Display cluster assignment for each data point\n",
    "neighbors_df['cluster'] = cluster_index\n",
    "neighbors_df = neighbors_df.drop(columns=['Distance'])\n",
    "neighbors_df.head()"
   ],
   "metadata": {
    "collapsed": false,
    "ExecuteTime": {
     "end_time": "2024-06-17T13:03:45.416682Z",
     "start_time": "2024-06-17T13:03:45.374076Z"
    }
   }
  },
  {
   "cell_type": "code",
   "execution_count": 53,
   "outputs": [
    {
     "data": {
      "text/plain": "<Figure size 800x600 with 1 Axes>",
      "image/png": "[encoded data removed]"
     },
     "metadata": {},
     "output_type": "display_data"
    }
   ],
   "source": [
    "plt.figure(figsize=(8, 6))\n",
    "for c in np.unique(cluster_index):\n",
    "    plt.scatter(features_for_som[cluster_index == c, 0],\n",
    "                features_for_som[cluster_index == c, 1], label='cluster=' + str(c), alpha=.7)\n",
    "\n",
    "# Plotting centroids\n",
    "centroids = som.get_weights().reshape(-1, features_for_som.shape[1])\n",
    "plt.scatter(centroids[:, 0], centroids[:, 1], marker='x',\n",
    "            s=100, linewidths=3, color='k', label='centroid')\n",
    "plt.legend()\n",
    "plt.show()\n"
   ],
   "metadata": {
    "collapsed": false,
    "ExecuteTime": {
     "end_time": "2024-06-17T13:03:58.720057Z",
     "start_time": "2024-06-17T13:03:58.629435Z"
    }
   }
  },
  {
   "cell_type": "markdown",
   "source": [
    "## Cluster Evalution"
   ],
   "metadata": {
    "collapsed": false
   }
  },
  {
   "cell_type": "code",
   "execution_count": 56,
   "outputs": [
    {
     "name": "stdout",
     "output_type": "stream",
     "text": [
      "Empty clusters: []\n",
      "Silhouette Coefficient: 0.8115092105083385\n"
     ]
    }
   ],
   "source": [
    "empty_clusters = [c for c in range(k) if np.sum(cluster_index == c) == 0]\n",
    "print(f\"Empty clusters: {empty_clusters}\")\n",
    "\n",
    "if len(empty_clusters) == 0:  # Compute only if there are no empty clusters\n",
    "    silhouette_avg = silhouette_score(features_for_som, cluster_index)\n",
    "    print(f\"Silhouette Coefficient: {silhouette_avg}\")\n",
    "else:\n",
    "    print(\"Cannot compute silhouette score due to empty clusters.\")"
   ],
   "metadata": {
    "collapsed": false,
    "ExecuteTime": {
     "end_time": "2024-06-17T13:39:40.636564Z",
     "start_time": "2024-06-17T13:39:40.602198Z"
    }
   }
  },
  {
   "cell_type": "code",
   "execution_count": 58,
   "outputs": [
    {
     "name": "stdout",
     "output_type": "stream",
     "text": [
      "Calinski-Harabasz Index: 230.75810502429232\n"
     ]
    }
   ],
   "source": [
    "if len(empty_clusters) == 0:  # Compute only if there are no empty clusters\n",
    "    ch_score = calinski_harabasz_score(features_for_som, cluster_index)\n",
    "    print(f\"Calinski-Harabasz Index: {ch_score}\")\n",
    "else:\n",
    "    print(\"Cannot compute Calinski-Harabasz Index due to empty clusters.\")"
   ],
   "metadata": {
    "collapsed": false,
    "ExecuteTime": {
     "end_time": "2024-06-17T13:42:28.308374Z",
     "start_time": "2024-06-17T13:42:28.291470Z"
    }
   }
  }
 ]
}
