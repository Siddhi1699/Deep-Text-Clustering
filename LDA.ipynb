{
  "nbformat": 4,
  "nbformat_minor": 0,
  "metadata": {
    "colab": {
      "provenance": []
    },
    "kernelspec": {
      "name": "python3",
      "display_name": "Python 3"
    },
    "language_info": {
      "name": "python"
    }
  },
  "cells": [
    {
      "cell_type": "code",
      "execution_count": 1,
      "metadata": {
        "id": "yktwSo7JHNkv"
      },
      "outputs": [],
      "source": [
        "import numpy as np\n",
        "from gensim import corpora\n",
        "from gensim.models.ldamodel import LdaModel\n",
        "import pickle"
      ]
    },
    {
      "cell_type": "code",
      "source": [
        "with open('preprocessed.pkl', 'rb') as f:\n",
        "    preprocessed = pickle.load(f)"
      ],
      "metadata": {
        "id": "3RzMobo6HVod"
      },
      "execution_count": 4,
      "outputs": []
    },
    {
      "cell_type": "code",
      "source": [
        "def convert_to_dense(vector, length=10):\n",
        "    dense_vector = np.zeros(length)\n",
        "    for idx, val in vector:\n",
        "        dense_vector[idx] = val\n",
        "    return dense_vector\n",
        "\n",
        "def extract_lda_features(preprocessed, num_topics=20, passes=15):\n",
        "    dictionary = corpora.Dictionary(preprocessed)\n",
        "    corpus = [dictionary.doc2bow(doc) for doc in preprocessed]\n",
        "    lda_model = LdaModel(corpus, num_topics=num_topics, id2word=dictionary, passes=passes)\n",
        "    lda_features = np.array([convert_to_dense(lda_model[corpus[i]], num_topics) for i in range(len(corpus))])\n",
        "    return lda_features\n",
        "\n",
        "lda_features = extract_lda_features(preprocessed)\n",
        "np.save('lda_features.npy', lda_features)"
      ],
      "metadata": {
        "id": "IBlXnRE3HcYJ"
      },
      "execution_count": 5,
      "outputs": []
    },
    {
      "cell_type": "code",
      "source": [
        "lda_features"
      ],
      "metadata": {
        "colab": {
          "base_uri": "https://localhost:8080/"
        },
        "id": "hsErCW4iJrqR",
        "outputId": "5dd5c8f4-6869-4756-b072-e637c5bbb4b7"
      },
      "execution_count": 6,
      "outputs": [
        {
          "output_type": "execute_result",
          "data": {
            "text/plain": [
              "array([[0.        , 0.        , 0.        , ..., 0.04863911, 0.        ,\n",
              "        0.        ],\n",
              "       [0.        , 0.        , 0.        , ..., 0.        , 0.        ,\n",
              "        0.07381314],\n",
              "       [0.52725232, 0.        , 0.        , ..., 0.        , 0.        ,\n",
              "        0.        ],\n",
              "       ...,\n",
              "       [0.        , 0.05718052, 0.        , ..., 0.        , 0.        ,\n",
              "        0.        ],\n",
              "       [0.        , 0.        , 0.        , ..., 0.9000361 , 0.        ,\n",
              "        0.        ],\n",
              "       [0.        , 0.33023316, 0.12349756, ..., 0.        , 0.        ,\n",
              "        0.        ]])"
            ]
          },
          "metadata": {},
          "execution_count": 6
        }
      ]
    }
  ]
}