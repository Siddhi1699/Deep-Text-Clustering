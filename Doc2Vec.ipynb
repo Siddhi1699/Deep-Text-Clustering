{
 "nbformat": 4,
 "nbformat_minor": 0,
 "metadata": {
  "colab": {
   "provenance": []
  },
  "kernelspec": {
   "name": "python3",
   "language": "python",
   "display_name": "Python 3 (ipykernel)"
  },
  "language_info": {
   "name": "python"
  }
 },
 "cells": [
  {
   "cell_type": "code",
   "execution_count": 2,
   "metadata": {
    "id": "HZlatlDgADpo",
    "ExecuteTime": {
     "end_time": "2024-06-08T23:16:15.684224Z",
     "start_time": "2024-06-08T23:16:14.975242Z"
    }
   },
   "outputs": [],
   "source": [
    "from gensim.models.doc2vec import Doc2Vec, TaggedDocument\n",
    "import pickle\n",
    "import numpy as np\n",
    "import pandas as pd"
   ]
  },
  {
   "cell_type": "code",
   "source": [
    "with open('preprocessed.pkl', 'rb') as f:\n",
    "    preprocessed = pickle.load(f)\n",
    "\n",
    "def extract_doc2vec_features(preprocessed, vector_size=100, window=5, min_count=2, epochs=100):\n",
    "    tagged_data = [TaggedDocument(words=doc, tags=[str(i)]) for i, doc in enumerate(preprocessed)]\n",
    "    doc2vec_model = Doc2Vec(tagged_data, vector_size=vector_size, window=window, min_count=min_count, workers=4, epochs=epochs)\n",
    "    doc2vec_features = np.array([doc2vec_model.dv[str(i)] for i in range(len(preprocessed))])\n",
    "    return doc2vec_features\n",
    "\n",
    "doc2vec_features = extract_doc2vec_features(preprocessed)\n",
    "np.save('doc2vec_features.npy', doc2vec_features)"
   ],
   "metadata": {
    "id": "OV4IDGbHBEGb",
    "ExecuteTime": {
     "end_time": "2024-06-08T23:17:23.724663Z",
     "start_time": "2024-06-08T23:16:19.018666Z"
    }
   },
   "execution_count": 3,
   "outputs": []
  },
  {
   "cell_type": "code",
   "source": [
    "# convert the numpy array to a dataframe\n",
    "doc2vec_features = pd.DataFrame(doc2vec_features)\n",
    "doc2vec_features"
   ],
   "metadata": {
    "colab": {
     "base_uri": "https://localhost:8080/"
    },
    "id": "JQUDSsM6GECe",
    "outputId": "8ed5ab56-efc0-4505-920d-9f917d2cc2e3",
    "ExecuteTime": {
     "end_time": "2024-06-08T23:20:00.354026Z",
     "start_time": "2024-06-08T23:20:00.328193Z"
    }
   },
   "execution_count": 11,
   "outputs": [
    {
     "data": {
      "text/plain": "             0         1         2         3         4         5         6   \\\n0     -3.637133  1.479291  1.331011 -2.105402 -0.798933 -1.172427 -1.110750   \n1     -0.549079  1.229295  0.644949 -0.241310 -0.210177  1.001022 -0.318919   \n2     -1.937449 -0.407649  3.457786  3.533044  1.108795 -0.356852  0.383233   \n3      1.921208  0.943304  0.899413 -1.422876  1.958574 -0.712046  0.900906   \n4      0.201621 -0.097882  0.234771 -0.413716 -0.092087  0.580430 -1.821948   \n...         ...       ...       ...       ...       ...       ...       ...   \n18841 -0.123157  5.275167 -1.851311  3.077935 -1.622102 -2.919776 -0.701466   \n18842 -0.462297  0.951116  0.417080  0.037798  0.668242 -0.504647 -0.513315   \n18843  1.370429  2.834393  1.561438  0.242202 -0.853813 -0.335144 -1.164542   \n18844  0.002604 -0.276052 -0.012186 -0.365465 -0.518991 -0.215926 -1.093271   \n18845 -1.648718  0.013406  0.452703  1.636463  0.021539 -0.176249 -0.781443   \n\n             7         8         9   ...        90        91        92  \\\n0     -1.886233 -1.094075  0.377508  ...  0.227781 -0.432460 -0.534896   \n1     -0.521395 -2.038009 -0.252766  ...  0.969159  0.244901 -0.196109   \n2      0.296407 -0.339981 -0.907191  ... -0.584947 -0.062672 -3.217895   \n3     -0.500342  0.058960  0.334159  ...  2.296168  3.780875  0.384902   \n4      1.321041  1.760690  1.357891  ...  0.672900  1.287229 -0.015629   \n...         ...       ...       ...  ...       ...       ...       ...   \n18841  2.781196  0.922524 -0.689702  ... -0.615281  2.447395  1.430418   \n18842  1.604516 -0.588544  0.289560  ... -0.594757  0.174276 -0.626624   \n18843 -1.284632 -2.568589 -1.509713  ...  0.807953  0.546100  0.235756   \n18844 -1.197641 -0.777211 -0.562961  ... -0.676841 -0.494137 -1.616056   \n18845  3.553463 -2.581872 -1.167077  ... -1.568718  0.689750  1.826886   \n\n             93        94        95        96        97        98        99  \n0      1.102519  1.449212 -2.781224  2.163737 -3.216588 -2.336923 -3.172692  \n1     -0.734471  1.209421  1.667872 -0.051075 -0.820491  0.626758  1.205661  \n2     -0.116236  2.323201  1.908612  0.072464  0.769380  0.980944 -2.167981  \n3      0.743218  3.868680  2.972626  0.492742  0.559067 -2.180601 -0.273979  \n4      1.991802  1.742698 -1.653565  1.829285  0.765724 -0.835629  2.344188  \n...         ...       ...       ...       ...       ...       ...       ...  \n18841 -1.686854  2.582422  1.514487  2.546062 -2.205399 -2.516575  0.534564  \n18842 -0.082757 -0.427031  0.679265  1.978410 -1.121525  0.058268  0.640393  \n18843  0.315222  1.474619  0.336930  2.134270  0.608823 -4.121116 -0.116621  \n18844  0.997224  0.870299  0.334714  0.635746 -1.250873  0.052060  0.489274  \n18845  0.202459  0.134396 -0.897564  1.476380  1.486022  2.095157 -0.460518  \n\n[18846 rows x 100 columns]",
      "text/html": "<div>\n<style scoped>\n    .dataframe tbody tr th:only-of-type {\n        vertical-align: middle;\n    }\n\n    .dataframe tbody tr th {\n        vertical-align: top;\n    }\n\n    .dataframe thead th {\n        text-align: right;\n    }\n</style>\n<table border=\"1\" class=\"dataframe\">\n  <thead>\n    <tr style=\"text-align: right;\">\n      <th></th>\n      <th>0</th>\n      <th>1</th>\n      <th>2</th>\n      <th>3</th>\n      <th>4</th>\n      <th>5</th>\n      <th>6</th>\n      <th>7</th>\n      <th>8</th>\n      <th>9</th>\n      <th>...</th>\n      <th>90</th>\n      <th>91</th>\n      <th>92</th>\n      <th>93</th>\n      <th>94</th>\n      <th>95</th>\n      <th>96</th>\n      <th>97</th>\n      <th>98</th>\n      <th>99</th>\n    </tr>\n  </thead>\n  <tbody>\n    <tr>\n      <th>0</th>\n      <td>-3.637133</td>\n      <td>1.479291</td>\n      <td>1.331011</td>\n      <td>-2.105402</td>\n      <td>-0.798933</td>\n      <td>-1.172427</td>\n      <td>-1.110750</td>\n      <td>-1.886233</td>\n      <td>-1.094075</td>\n      <td>0.377508</td>\n      <td>...</td>\n      <td>0.227781</td>\n      <td>-0.432460</td>\n      <td>-0.534896</td>\n      <td>1.102519</td>\n      <td>1.449212</td>\n      <td>-2.781224</td>\n      <td>2.163737</td>\n      <td>-3.216588</td>\n      <td>-2.336923</td>\n      <td>-3.172692</td>\n    </tr>\n    <tr>\n      <th>1</th>\n      <td>-0.549079</td>\n      <td>1.229295</td>\n      <td>0.644949</td>\n      <td>-0.241310</td>\n      <td>-0.210177</td>\n      <td>1.001022</td>\n      <td>-0.318919</td>\n      <td>-0.521395</td>\n      <td>-2.038009</td>\n      <td>-0.252766</td>\n      <td>...</td>\n      <td>0.969159</td>\n      <td>0.244901</td>\n      <td>-0.196109</td>\n      <td>-0.734471</td>\n      <td>1.209421</td>\n      <td>1.667872</td>\n      <td>-0.051075</td>\n      <td>-0.820491</td>\n      <td>0.626758</td>\n      <td>1.205661</td>\n    </tr>\n    <tr>\n      <th>2</th>\n      <td>-1.937449</td>\n      <td>-0.407649</td>\n      <td>3.457786</td>\n      <td>3.533044</td>\n      <td>1.108795</td>\n      <td>-0.356852</td>\n      <td>0.383233</td>\n      <td>0.296407</td>\n      <td>-0.339981</td>\n      <td>-0.907191</td>\n      <td>...</td>\n      <td>-0.584947</td>\n      <td>-0.062672</td>\n      <td>-3.217895</td>\n      <td>-0.116236</td>\n      <td>2.323201</td>\n      <td>1.908612</td>\n      <td>0.072464</td>\n      <td>0.769380</td>\n      <td>0.980944</td>\n      <td>-2.167981</td>\n    </tr>\n    <tr>\n      <th>3</th>\n      <td>1.921208</td>\n      <td>0.943304</td>\n      <td>0.899413</td>\n      <td>-1.422876</td>\n      <td>1.958574</td>\n      <td>-0.712046</td>\n      <td>0.900906</td>\n      <td>-0.500342</td>\n      <td>0.058960</td>\n      <td>0.334159</td>\n      <td>...</td>\n      <td>2.296168</td>\n      <td>3.780875</td>\n      <td>0.384902</td>\n      <td>0.743218</td>\n      <td>3.868680</td>\n      <td>2.972626</td>\n      <td>0.492742</td>\n      <td>0.559067</td>\n      <td>-2.180601</td>\n      <td>-0.273979</td>\n    </tr>\n    <tr>\n      <th>4</th>\n      <td>0.201621</td>\n      <td>-0.097882</td>\n      <td>0.234771</td>\n      <td>-0.413716</td>\n      <td>-0.092087</td>\n      <td>0.580430</td>\n      <td>-1.821948</td>\n      <td>1.321041</td>\n      <td>1.760690</td>\n      <td>1.357891</td>\n      <td>...</td>\n      <td>0.672900</td>\n      <td>1.287229</td>\n      <td>-0.015629</td>\n      <td>1.991802</td>\n      <td>1.742698</td>\n      <td>-1.653565</td>\n      <td>1.829285</td>\n      <td>0.765724</td>\n      <td>-0.835629</td>\n      <td>2.344188</td>\n    </tr>\n    <tr>\n      <th>...</th>\n      <td>...</td>\n      <td>...</td>\n      <td>...</td>\n      <td>...</td>\n      <td>...</td>\n      <td>...</td>\n      <td>...</td>\n      <td>...</td>\n      <td>...</td>\n      <td>...</td>\n      <td>...</td>\n      <td>...</td>\n      <td>...</td>\n      <td>...</td>\n      <td>...</td>\n      <td>...</td>\n      <td>...</td>\n      <td>...</td>\n      <td>...</td>\n      <td>...</td>\n      <td>...</td>\n    </tr>\n    <tr>\n      <th>18841</th>\n      <td>-0.123157</td>\n      <td>5.275167</td>\n      <td>-1.851311</td>\n      <td>3.077935</td>\n      <td>-1.622102</td>\n      <td>-2.919776</td>\n      <td>-0.701466</td>\n      <td>2.781196</td>\n      <td>0.922524</td>\n      <td>-0.689702</td>\n      <td>...</td>\n      <td>-0.615281</td>\n      <td>2.447395</td>\n      <td>1.430418</td>\n      <td>-1.686854</td>\n      <td>2.582422</td>\n      <td>1.514487</td>\n      <td>2.546062</td>\n      <td>-2.205399</td>\n      <td>-2.516575</td>\n      <td>0.534564</td>\n    </tr>\n    <tr>\n      <th>18842</th>\n      <td>-0.462297</td>\n      <td>0.951116</td>\n      <td>0.417080</td>\n      <td>0.037798</td>\n      <td>0.668242</td>\n      <td>-0.504647</td>\n      <td>-0.513315</td>\n      <td>1.604516</td>\n      <td>-0.588544</td>\n      <td>0.289560</td>\n      <td>...</td>\n      <td>-0.594757</td>\n      <td>0.174276</td>\n      <td>-0.626624</td>\n      <td>-0.082757</td>\n      <td>-0.427031</td>\n      <td>0.679265</td>\n      <td>1.978410</td>\n      <td>-1.121525</td>\n      <td>0.058268</td>\n      <td>0.640393</td>\n    </tr>\n    <tr>\n      <th>18843</th>\n      <td>1.370429</td>\n      <td>2.834393</td>\n      <td>1.561438</td>\n      <td>0.242202</td>\n      <td>-0.853813</td>\n      <td>-0.335144</td>\n      <td>-1.164542</td>\n      <td>-1.284632</td>\n      <td>-2.568589</td>\n      <td>-1.509713</td>\n      <td>...</td>\n      <td>0.807953</td>\n      <td>0.546100</td>\n      <td>0.235756</td>\n      <td>0.315222</td>\n      <td>1.474619</td>\n      <td>0.336930</td>\n      <td>2.134270</td>\n      <td>0.608823</td>\n      <td>-4.121116</td>\n      <td>-0.116621</td>\n    </tr>\n    <tr>\n      <th>18844</th>\n      <td>0.002604</td>\n      <td>-0.276052</td>\n      <td>-0.012186</td>\n      <td>-0.365465</td>\n      <td>-0.518991</td>\n      <td>-0.215926</td>\n      <td>-1.093271</td>\n      <td>-1.197641</td>\n      <td>-0.777211</td>\n      <td>-0.562961</td>\n      <td>...</td>\n      <td>-0.676841</td>\n      <td>-0.494137</td>\n      <td>-1.616056</td>\n      <td>0.997224</td>\n      <td>0.870299</td>\n      <td>0.334714</td>\n      <td>0.635746</td>\n      <td>-1.250873</td>\n      <td>0.052060</td>\n      <td>0.489274</td>\n    </tr>\n    <tr>\n      <th>18845</th>\n      <td>-1.648718</td>\n      <td>0.013406</td>\n      <td>0.452703</td>\n      <td>1.636463</td>\n      <td>0.021539</td>\n      <td>-0.176249</td>\n      <td>-0.781443</td>\n      <td>3.553463</td>\n      <td>-2.581872</td>\n      <td>-1.167077</td>\n      <td>...</td>\n      <td>-1.568718</td>\n      <td>0.689750</td>\n      <td>1.826886</td>\n      <td>0.202459</td>\n      <td>0.134396</td>\n      <td>-0.897564</td>\n      <td>1.476380</td>\n      <td>1.486022</td>\n      <td>2.095157</td>\n      <td>-0.460518</td>\n    </tr>\n  </tbody>\n</table>\n<p>18846 rows × 100 columns</p>\n</div>"
     },
     "execution_count": 11,
     "metadata": {},
     "output_type": "execute_result"
    }
   ]
  },
  {
   "cell_type": "code",
   "execution_count": 14,
   "outputs": [
    {
     "data": {
      "text/plain": "          0       1          2              3         4         5     \\\n0         sure  basher        pen            fan    pretti    confus   \n1      brother  market      video           card   support      vesa   \n2        final    said      dream  mediterranean       new      area   \n3        think    scsi       card            dma  transfer      disk   \n4          old  jasmin      drive            use       new    system   \n...        ...     ...        ...            ...       ...       ...   \n18841       dn   nyeda      david            nye        dn  neurolog   \n18842     isol  ground  recepticl          usual     unusu     color   \n18843   instal     cpu      clone    motherboard       tri     mount   \n18844    would  requir      point        specifi    sphere       far   \n18845      tip    gari       crum           crum       got     phone   \n\n             6        7        8          9     ...  8388  8389  8390  8391  \\\n0            lack     kind     post     recent  ...  None  None  None  None   \n1           local       bu      ram      anyon  ...  None  None  None  None   \n2         greater     year     like  holocaust  ...  None  None  None  None   \n3            scsi     card      dma   transfer  ...  None  None  None  None   \n4      understand    upsat   driver     modern  ...  None  None  None  None   \n...           ...      ...      ...        ...  ...   ...   ...   ...   ...   \n18841          dn  consult  cheaper       scan  ...  None  None  None  None   \n18842       orang   yellow    often        use  ...  None  None  None  None   \n18843         cpu   cooler     chip       hour  ...  None  None  None  None   \n18844         see   unless    prove      point  ...  None  None  None  None   \n18845     pontiac   system  pontaic     custom  ...  None  None  None  None   \n\n       8392  8393  8394  8395  8396  8397  \n0      None  None  None  None  None  None  \n1      None  None  None  None  None  None  \n2      None  None  None  None  None  None  \n3      None  None  None  None  None  None  \n4      None  None  None  None  None  None  \n...     ...   ...   ...   ...   ...   ...  \n18841  None  None  None  None  None  None  \n18842  None  None  None  None  None  None  \n18843  None  None  None  None  None  None  \n18844  None  None  None  None  None  None  \n18845  None  None  None  None  None  None  \n\n[18846 rows x 8398 columns]",
      "text/html": "<div>\n<style scoped>\n    .dataframe tbody tr th:only-of-type {\n        vertical-align: middle;\n    }\n\n    .dataframe tbody tr th {\n        vertical-align: top;\n    }\n\n    .dataframe thead th {\n        text-align: right;\n    }\n</style>\n<table border=\"1\" class=\"dataframe\">\n  <thead>\n    <tr style=\"text-align: right;\">\n      <th></th>\n      <th>0</th>\n      <th>1</th>\n      <th>2</th>\n      <th>3</th>\n      <th>4</th>\n      <th>5</th>\n      <th>6</th>\n      <th>7</th>\n      <th>8</th>\n      <th>9</th>\n      <th>...</th>\n      <th>8388</th>\n      <th>8389</th>\n      <th>8390</th>\n      <th>8391</th>\n      <th>8392</th>\n      <th>8393</th>\n      <th>8394</th>\n      <th>8395</th>\n      <th>8396</th>\n      <th>8397</th>\n    </tr>\n  </thead>\n  <tbody>\n    <tr>\n      <th>0</th>\n      <td>sure</td>\n      <td>basher</td>\n      <td>pen</td>\n      <td>fan</td>\n      <td>pretti</td>\n      <td>confus</td>\n      <td>lack</td>\n      <td>kind</td>\n      <td>post</td>\n      <td>recent</td>\n      <td>...</td>\n      <td>None</td>\n      <td>None</td>\n      <td>None</td>\n      <td>None</td>\n      <td>None</td>\n      <td>None</td>\n      <td>None</td>\n      <td>None</td>\n      <td>None</td>\n      <td>None</td>\n    </tr>\n    <tr>\n      <th>1</th>\n      <td>brother</td>\n      <td>market</td>\n      <td>video</td>\n      <td>card</td>\n      <td>support</td>\n      <td>vesa</td>\n      <td>local</td>\n      <td>bu</td>\n      <td>ram</td>\n      <td>anyon</td>\n      <td>...</td>\n      <td>None</td>\n      <td>None</td>\n      <td>None</td>\n      <td>None</td>\n      <td>None</td>\n      <td>None</td>\n      <td>None</td>\n      <td>None</td>\n      <td>None</td>\n      <td>None</td>\n    </tr>\n    <tr>\n      <th>2</th>\n      <td>final</td>\n      <td>said</td>\n      <td>dream</td>\n      <td>mediterranean</td>\n      <td>new</td>\n      <td>area</td>\n      <td>greater</td>\n      <td>year</td>\n      <td>like</td>\n      <td>holocaust</td>\n      <td>...</td>\n      <td>None</td>\n      <td>None</td>\n      <td>None</td>\n      <td>None</td>\n      <td>None</td>\n      <td>None</td>\n      <td>None</td>\n      <td>None</td>\n      <td>None</td>\n      <td>None</td>\n    </tr>\n    <tr>\n      <th>3</th>\n      <td>think</td>\n      <td>scsi</td>\n      <td>card</td>\n      <td>dma</td>\n      <td>transfer</td>\n      <td>disk</td>\n      <td>scsi</td>\n      <td>card</td>\n      <td>dma</td>\n      <td>transfer</td>\n      <td>...</td>\n      <td>None</td>\n      <td>None</td>\n      <td>None</td>\n      <td>None</td>\n      <td>None</td>\n      <td>None</td>\n      <td>None</td>\n      <td>None</td>\n      <td>None</td>\n      <td>None</td>\n    </tr>\n    <tr>\n      <th>4</th>\n      <td>old</td>\n      <td>jasmin</td>\n      <td>drive</td>\n      <td>use</td>\n      <td>new</td>\n      <td>system</td>\n      <td>understand</td>\n      <td>upsat</td>\n      <td>driver</td>\n      <td>modern</td>\n      <td>...</td>\n      <td>None</td>\n      <td>None</td>\n      <td>None</td>\n      <td>None</td>\n      <td>None</td>\n      <td>None</td>\n      <td>None</td>\n      <td>None</td>\n      <td>None</td>\n      <td>None</td>\n    </tr>\n    <tr>\n      <th>...</th>\n      <td>...</td>\n      <td>...</td>\n      <td>...</td>\n      <td>...</td>\n      <td>...</td>\n      <td>...</td>\n      <td>...</td>\n      <td>...</td>\n      <td>...</td>\n      <td>...</td>\n      <td>...</td>\n      <td>...</td>\n      <td>...</td>\n      <td>...</td>\n      <td>...</td>\n      <td>...</td>\n      <td>...</td>\n      <td>...</td>\n      <td>...</td>\n      <td>...</td>\n      <td>...</td>\n    </tr>\n    <tr>\n      <th>18841</th>\n      <td>dn</td>\n      <td>nyeda</td>\n      <td>david</td>\n      <td>nye</td>\n      <td>dn</td>\n      <td>neurolog</td>\n      <td>dn</td>\n      <td>consult</td>\n      <td>cheaper</td>\n      <td>scan</td>\n      <td>...</td>\n      <td>None</td>\n      <td>None</td>\n      <td>None</td>\n      <td>None</td>\n      <td>None</td>\n      <td>None</td>\n      <td>None</td>\n      <td>None</td>\n      <td>None</td>\n      <td>None</td>\n    </tr>\n    <tr>\n      <th>18842</th>\n      <td>isol</td>\n      <td>ground</td>\n      <td>recepticl</td>\n      <td>usual</td>\n      <td>unusu</td>\n      <td>color</td>\n      <td>orang</td>\n      <td>yellow</td>\n      <td>often</td>\n      <td>use</td>\n      <td>...</td>\n      <td>None</td>\n      <td>None</td>\n      <td>None</td>\n      <td>None</td>\n      <td>None</td>\n      <td>None</td>\n      <td>None</td>\n      <td>None</td>\n      <td>None</td>\n      <td>None</td>\n    </tr>\n    <tr>\n      <th>18843</th>\n      <td>instal</td>\n      <td>cpu</td>\n      <td>clone</td>\n      <td>motherboard</td>\n      <td>tri</td>\n      <td>mount</td>\n      <td>cpu</td>\n      <td>cooler</td>\n      <td>chip</td>\n      <td>hour</td>\n      <td>...</td>\n      <td>None</td>\n      <td>None</td>\n      <td>None</td>\n      <td>None</td>\n      <td>None</td>\n      <td>None</td>\n      <td>None</td>\n      <td>None</td>\n      <td>None</td>\n      <td>None</td>\n    </tr>\n    <tr>\n      <th>18844</th>\n      <td>would</td>\n      <td>requir</td>\n      <td>point</td>\n      <td>specifi</td>\n      <td>sphere</td>\n      <td>far</td>\n      <td>see</td>\n      <td>unless</td>\n      <td>prove</td>\n      <td>point</td>\n      <td>...</td>\n      <td>None</td>\n      <td>None</td>\n      <td>None</td>\n      <td>None</td>\n      <td>None</td>\n      <td>None</td>\n      <td>None</td>\n      <td>None</td>\n      <td>None</td>\n      <td>None</td>\n    </tr>\n    <tr>\n      <th>18845</th>\n      <td>tip</td>\n      <td>gari</td>\n      <td>crum</td>\n      <td>crum</td>\n      <td>got</td>\n      <td>phone</td>\n      <td>pontiac</td>\n      <td>system</td>\n      <td>pontaic</td>\n      <td>custom</td>\n      <td>...</td>\n      <td>None</td>\n      <td>None</td>\n      <td>None</td>\n      <td>None</td>\n      <td>None</td>\n      <td>None</td>\n      <td>None</td>\n      <td>None</td>\n      <td>None</td>\n      <td>None</td>\n    </tr>\n  </tbody>\n</table>\n<p>18846 rows × 8398 columns</p>\n</div>"
     },
     "execution_count": 14,
     "metadata": {},
     "output_type": "execute_result"
    }
   ],
   "source": [
    "# convert the pickle file to a dataframe\n",
    "with open('preprocessed.pkl', 'rb') as f:\n",
    "    preprocessed = pickle.load(f)\n",
    "preprocessed = pd.DataFrame(preprocessed)\n",
    "preprocessed"
   ],
   "metadata": {
    "collapsed": false,
    "ExecuteTime": {
     "end_time": "2024-06-08T23:23:14.295306Z",
     "start_time": "2024-06-08T23:23:10.301599Z"
    }
   }
  },
  {
   "cell_type": "code",
   "execution_count": null,
   "outputs": [],
   "source": [],
   "metadata": {
    "collapsed": false
   }
  }
 ]
}
