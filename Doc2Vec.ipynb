{
  "nbformat": 4,
  "nbformat_minor": 0,
  "metadata": {
    "colab": {
      "provenance": []
    },
    "kernelspec": {
      "name": "python3",
      "display_name": "Python 3"
    },
    "language_info": {
      "name": "python"
    }
  },
  "cells": [
    {
      "cell_type": "code",
      "execution_count": 2,
      "metadata": {
        "id": "HZlatlDgADpo"
      },
      "outputs": [],
      "source": [
        "from gensim.models.doc2vec import Doc2Vec, TaggedDocument\n",
        "import pickle\n",
        "import numpy as np"
      ]
    },
    {
      "cell_type": "code",
      "source": [
        "with open('preprocessed.pkl', 'rb') as f:\n",
        "    preprocessed = pickle.load(f)\n",
        "\n",
        "def extract_doc2vec_features(preprocessed, vector_size=100, window=5, min_count=2, epochs=100):\n",
        "    tagged_data = [TaggedDocument(words=doc, tags=[str(i)]) for i, doc in enumerate(preprocessed)]\n",
        "    doc2vec_model = Doc2Vec(tagged_data, vector_size=vector_size, window=window, min_count=min_count, workers=4, epochs=epochs)\n",
        "    doc2vec_features = np.array([doc2vec_model.dv[str(i)] for i in range(len(preprocessed))])\n",
        "    return doc2vec_features\n",
        "\n",
        "doc2vec_features = extract_doc2vec_features(preprocessed)\n",
        "np.save('doc2vec_features.npy', doc2vec_features)"
      ],
      "metadata": {
        "id": "OV4IDGbHBEGb"
      },
      "execution_count": 5,
      "outputs": []
    },
    {
      "cell_type": "code",
      "source": [
        "doc2vec_features"
      ],
      "metadata": {
        "colab": {
          "base_uri": "https://localhost:8080/"
        },
        "id": "JQUDSsM6GECe",
        "outputId": "8ed5ab56-efc0-4505-920d-9f917d2cc2e3"
      },
      "execution_count": 6,
      "outputs": [
        {
          "output_type": "execute_result",
          "data": {
            "text/plain": [
              "array([[-3.349177  , -0.17067076,  2.358438  , ..., -2.9725497 ,\n",
              "        -0.20579119, -2.0534194 ],\n",
              "       [ 0.9536356 ,  0.22269803,  1.4745643 , ..., -0.9111651 ,\n",
              "         0.29542455,  0.682974  ],\n",
              "       [-2.3442316 ,  0.94941044,  2.1543338 , ...,  1.2885513 ,\n",
              "        -0.87510437, -2.566036  ],\n",
              "       ...,\n",
              "       [ 0.23560585,  2.6934845 ,  0.6779586 , ...,  1.276596  ,\n",
              "        -4.079563  , -0.13285553],\n",
              "       [-0.3527997 ,  0.8456843 ,  0.730102  , ..., -0.316018  ,\n",
              "         1.0151128 ,  0.5519269 ],\n",
              "       [-0.5940489 , -0.22120953, -1.2640907 , ..., -1.9082812 ,\n",
              "         0.7347627 , -1.0718939 ]], dtype=float32)"
            ]
          },
          "metadata": {},
          "execution_count": 6
        }
      ]
    }
  ]
}